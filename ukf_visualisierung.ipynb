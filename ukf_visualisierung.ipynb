{
 "cells": [
  {
   "cell_type": "code",
   "execution_count": null,
   "metadata": {
    "collapsed": false
   },
   "outputs": [],
   "source": [
    "import plotly.offline as py\n",
    "from plotly.graph_objs import *\n",
    "import pandas as pd\n",
    "import math\n",
    "py.init_notebook_mode()\n",
    "\n",
    "#with open('data_out.txt') as f:\n",
    "with open('build/out3.txt') as f:    \n",
    "    table_ukf_output = pd.read_table(f, sep='\\t', lineterminator='\\n')\n",
    "    \n",
    "table_ukf_output"
   ]
  },
  {
   "cell_type": "code",
   "execution_count": null,
   "metadata": {
    "collapsed": false
   },
   "outputs": [],
   "source": [
    "import plotly.offline as py\n",
    "from plotly.graph_objs import *\n",
    "\n",
    "#estimations\n",
    "trace1 = Scatter(\n",
    "    x=table_ukf_output['px_state'],\n",
    "    y=table_ukf_output['py_state'],\n",
    "    xaxis='x2',\n",
    "    yaxis='y2',\n",
    "    name='KF-Estimate',\n",
    "    mode = 'markers',\n",
    ")\n",
    "trace1.marker.size = 3\n",
    "\n",
    "#Measurements\n",
    "trace2 = Scatter(\n",
    "    x=table_ukf_output['px_measured'],\n",
    "    y=table_ukf_output['py_measured'],\n",
    "    xaxis='x2',\n",
    "    yaxis='y2',\n",
    "    name = 'Measurements',\n",
    "    mode = 'markers'\n",
    ")\n",
    "\n",
    "#Ground Truth\n",
    "trace3 = Scatter(\n",
    "    x=table_ukf_output['px_ground_truth'],\n",
    "    y=table_ukf_output['py_ground_truth'],\n",
    "    xaxis='x2',\n",
    "    yaxis='y2',\n",
    "    name = 'Ground Truth',\n",
    "    mode = 'markers'      \n",
    ")\n",
    "\n",
    "data = [trace2, trace3, trace1]\n",
    "\n",
    "layout = Layout(\n",
    "    xaxis2=dict( anchor='x2', title='px' ),\n",
    "    yaxis2=dict( anchor='y2', title='py' )\n",
    ")\n",
    "\n",
    "fig = Figure(data=data, layout=layout)\n",
    "py.iplot(fig, filename='UKF')"
   ]
  },
  {
   "cell_type": "code",
   "execution_count": null,
   "metadata": {
    "collapsed": false
   },
   "outputs": [],
   "source": [
    "import plotly.offline as py\n",
    "from plotly.graph_objs import *\n",
    "import numpy as np\n",
    "\n",
    "delta_t = 1;\n",
    "v    = table_ukf_output['v_state'];\n",
    "yaw  = table_ukf_output['yaw_angle_state'];\n",
    "yawd = table_ukf_output['yaw_rate_state'];\n",
    "vx   = v/yawd * ( np.sin (yaw + yawd*delta_t) - np.sin(yaw));\n",
    "vy   = v/yawd * ( np.cos(yaw) - np.cos(yaw+yawd*delta_t) );\n",
    "\n",
    "#estimations\n",
    "trace1 = Scatter(\n",
    "    x=vx,\n",
    "    y=vy,\n",
    "    xaxis='x2',\n",
    "    yaxis='y2',\n",
    "    name='KF-Estimate',\n",
    "    mode = 'markers',\n",
    ")\n",
    "\n",
    "#Ground Truth\n",
    "trace3 = Scatter(\n",
    "    x=table_ukf_output['vx_ground_truth'],\n",
    "    y=table_ukf_output['vy_ground_truth'],\n",
    "    xaxis='x2',\n",
    "    yaxis='y2',\n",
    "    name = 'Ground Truth',\n",
    "    mode = 'markers'      \n",
    ")\n",
    "\n",
    "data = [trace1, trace3]#[trace2, trace3, trace1]\n",
    "\n",
    "layout = Layout(\n",
    "    xaxis2=dict( anchor='x2', title='vx' ),\n",
    "    yaxis2=dict( anchor='y2', title='vy' )\n",
    ")\n",
    "\n",
    "fig = Figure(data=data, layout=layout)\n",
    "py.iplot(fig, filename='UKF')"
   ]
  },
  {
   "cell_type": "code",
   "execution_count": null,
   "metadata": {
    "collapsed": false
   },
   "outputs": [],
   "source": [
    "import plotly.offline as py\n",
    "from plotly.graph_objs import *\n",
    "\n",
    "t = list(range(0,len(table_ukf_output)))\n",
    "trace7 = Scatter(\n",
    "    x=t,\n",
    "    y=table_ukf_output['NIS'],\n",
    "    xaxis='x2',\n",
    "    yaxis='y2',\n",
    "    name = 'NIS',\n",
    ")\n",
    "\n",
    "layout = Layout(\n",
    "    xaxis2=dict(anchor='x2',title='t'),\n",
    "    yaxis2=dict(anchor='y2',title='NIS')\n",
    ")\n",
    "\n",
    "fig = Figure(data=[trace7], layout=layout)\n",
    "py.iplot(fig, filename='UKF')"
   ]
  }
 ],
 "metadata": {
  "kernelspec": {
   "display_name": "Python 3",
   "language": "python",
   "name": "python3"
  },
  "language_info": {
   "codemirror_mode": {
    "name": "ipython",
    "version": 3
   },
   "file_extension": ".py",
   "mimetype": "text/x-python",
   "name": "python",
   "nbconvert_exporter": "python",
   "pygments_lexer": "ipython3",
   "version": "3.5.2"
  },
  "widgets": {
   "state": {},
   "version": "1.1.2"
  }
 },
 "nbformat": 4,
 "nbformat_minor": 2
}
